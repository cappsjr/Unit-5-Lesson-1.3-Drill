{
 "cells": [
  {
   "cell_type": "code",
   "execution_count": 12,
   "metadata": {},
   "outputs": [],
   "source": [
    "class Node:\n",
    "    def __init__(self, val):\n",
    "        self.left = None\n",
    "        self.right = None\n",
    "        self.val = val"
   ]
  },
  {
   "cell_type": "code",
   "execution_count": 13,
   "metadata": {},
   "outputs": [],
   "source": [
    "# Establish the initial root node and children\n",
    "root = Node('A')\n",
    "root.left = Node('B')\n",
    "root.right = Node('C')\n",
    "\n",
    "# Add the appropriate children for ‘B’ and ‘C’\n",
    "root.left.left = Node('D')\n",
    "root.left.right = Node('E')\n",
    "root.right.left = Node('F')\n",
    "root.right.right = Node('G')"
   ]
  },
  {
   "cell_type": "markdown",
   "metadata": {},
   "source": [
    "# Drill"
   ]
  },
  {
   "cell_type": "code",
   "execution_count": 22,
   "metadata": {
    "collapsed": true
   },
   "outputs": [],
   "source": [
    "class Node:\n",
    "\n",
    "       def __init__(self,info):\n",
    "\n",
    "           self.info = info\n",
    "           self.left = None\n",
    "           self.right = None\n",
    "           self.level = None\n",
    "\n",
    "       def __str__(self):\n",
    "\n",
    "           return str(self.info)"
   ]
  },
  {
   "cell_type": "code",
   "execution_count": 23,
   "metadata": {
    "collapsed": true
   },
   "outputs": [],
   "source": [
    "# import random\n",
    "\n",
    "root = Node(24)\n",
    "\n",
    "root.left = Node(13)\n",
    "root.right = Node(14)\n",
    "\n",
    "root.left.left = Node(6)\n",
    "root.left.right = Node(40)\n",
    "root.right.left = Node(29)\n",
    "root.right.right = Node(1)\n",
    "\n",
    "root.left.left.left = Node(33)\n",
    "root.left.left.right = Node(17)\n",
    "root.left.right.left = Node(38)\n",
    "root.left.right.right = Node(44)\n",
    "root.right.left.left = Node(50)\n",
    "root.right.left.right = Node(21)\n",
    "root.right.right.left = Node(10)\n",
    "root.right.right.right = Node(25)"
   ]
  },
  {
   "cell_type": "code",
   "execution_count": 24,
   "metadata": {},
   "outputs": [
    {
     "name": "stdout",
     "output_type": "stream",
     "text": [
      "24\n",
      "1314\n",
      "640291\n",
      "3317384450211025\n"
     ]
    }
   ],
   "source": [
    "from collections import deque\n",
    "\n",
    "def BFT(node):\n",
    "\n",
    "    node.level = 1\n",
    "    queue = deque([node])\n",
    "    output = []\n",
    "    current_level = node.level\n",
    "\n",
    "    while len(queue)>0:\n",
    "\n",
    "          current_node = queue.popleft()\n",
    "\n",
    "          if(current_node.level > current_level):\n",
    "              output.append(\"\\n\")\n",
    "              current_level += 1\n",
    "\n",
    "          output.append(str(current_node))\n",
    "\n",
    "          if current_node.left != None:\n",
    "             current_node.left.level = current_level + 1 \n",
    "             queue.append(current_node.left) \n",
    "\n",
    "          if current_node.right != None:\n",
    "             current_node.right.level = current_level + 1 \n",
    "             queue.append(current_node.right)\n",
    "\n",
    "                 \n",
    " \n",
    "    return ''.join(output)\n",
    "\n",
    "print(BFT(root))"
   ]
  },
  {
   "cell_type": "code",
   "execution_count": null,
   "metadata": {
    "collapsed": true
   },
   "outputs": [],
   "source": []
  }
 ],
 "metadata": {
  "kernelspec": {
   "display_name": "Python 3",
   "language": "python",
   "name": "python3"
  },
  "language_info": {
   "codemirror_mode": {
    "name": "ipython",
    "version": 3
   },
   "file_extension": ".py",
   "mimetype": "text/x-python",
   "name": "python",
   "nbconvert_exporter": "python",
   "pygments_lexer": "ipython3",
   "version": "3.6.1"
  }
 },
 "nbformat": 4,
 "nbformat_minor": 2
}
